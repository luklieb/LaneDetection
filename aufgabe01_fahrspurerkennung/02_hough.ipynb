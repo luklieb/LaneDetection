{
 "cells": [
  {
   "cell_type": "markdown",
   "metadata": {},
   "source": [
    "# Die Bildverarbeitungspipeline (2/2) - Bildvorverarbeitung\n",
    "\n",
    "\n",
    "![(misc/pipeline.png)](misc/pipeline.png)\n",
    "\n",
    "\n",
    "\n",
    "## Hough Algorithmus zur Erkennung von Fahrbahnmarkierungen\n",
    "\n",
    "In der ersten Übung sollen die Algorithmen für die letzten 3 Schritte der Bildverarbeitungspipeline durchgeführt werden. Der Hough Algorithmus erfordert wahlfreien Zugriff auf den Speicher. Deshalb bietet sich in der späteren Umsetzung der ARM Mikrocontroller für diesen Teil der Bildverarbeitungspipeline an.\n",
    "\n",
    "In diesem Notebook soll der Hough-Algorithmus zum Erkennen von Linien in einem Bild umgesetzt werden. \n",
    "* Als Ausgangspunkt können verschiedene Bilder mit Fahrbahnmarkierungen gewählt werden\n",
    "* Die Vorverarbeitung der Bilder wird dieses mal aus Performance-Gründen mit OpenCV umgesetzt (vorgegeben)\n",
    "* Zusätzlich kann ein generiertes Bild mit eingezeichneten Linien zum Testen verwendet werden\n",
    "* Anschließend wird die Hough Transformation umgesetzt\n",
    "* und eine Linie in das Eingangsbild gezeichnet\n",
    "\n",
    "Hinweise:\n",
    "* Die Python-Sprachkonstrukte (Schleifen, Bedingungen, ...) sind hier beschrieben: https://www.learnpython.org/en/Welcome\n",
    "\n",
    "* Codeabschnitte, die bearbeitet werden müssen, sind mit '### TODO ###' gekennzeichnet."
   ]
  },
  {
   "cell_type": "markdown",
   "metadata": {},
   "source": [
    "### Standard-Bibliotheken einbinden\n",
    "Zuerst werden ein paar nützliche Bibliotheken geladen."
   ]
  },
  {
   "cell_type": "code",
   "execution_count": 1,
   "metadata": {},
   "outputs": [],
   "source": [
    "import matplotlib\n",
    "import matplotlib.pyplot as plt\n",
    "import matplotlib.image as mpimg\n",
    "import numpy as np\n",
    "import math\n",
    "import cv2\n",
    "%matplotlib inline\n"
   ]
  },
  {
   "cell_type": "markdown",
   "metadata": {},
   "source": [
    "\n",
    "### Folgende Bilder stehen zum Testen zur Auswahl:"
   ]
  },
  {
   "cell_type": "code",
   "execution_count": 2,
   "metadata": {},
   "outputs": [
    {
     "data": {
      "text/plain": [
       "['solidYellowCurve.jpg',\n",
       " 'solidYellowLeft.jpg',\n",
       " 'solidYellowCurve2.jpg',\n",
       " 'solidWhiteRight.jpg',\n",
       " 'whiteCarLaneSwitch.jpg',\n",
       " 'solidWhiteCurve.jpg']"
      ]
     },
     "execution_count": 2,
     "metadata": {},
     "output_type": "execute_result"
    }
   ],
   "source": [
    "import os\n",
    "os.listdir(\"test_images/\")\n",
    "\n"
   ]
  },
  {
   "cell_type": "markdown",
   "metadata": {},
   "source": [
    "### Bild einlesen:"
   ]
  },
  {
   "cell_type": "code",
   "execution_count": 3,
   "metadata": {},
   "outputs": [],
   "source": [
    "image = mpimg.imread('test_images/solidWhiteRight.jpg')\n",
    "height = image.shape[0]\n",
    "width = image.shape[1]"
   ]
  },
  {
   "cell_type": "markdown",
   "metadata": {},
   "source": [
    "\n",
    "### Bildvorverarbeitung mittels OpenCV\n",
    "\n",
    "Die Algorithmen der letzten Übung werden hier für eine bessere Performance mit OpenCV umgesetzt. In der späteren Embedded Umsetzung wird dieser Teil von einem selbst entwickelten Hardwarebeschleuniger auf dem FPGA übernommen."
   ]
  },
  {
   "cell_type": "code",
   "execution_count": 4,
   "metadata": {},
   "outputs": [],
   "source": [
    "# Graustufen\n",
    "image_gray = cv2.cvtColor(image, cv2.COLOR_RGB2GRAY)\n",
    "\n",
    "# Kantenerkennung mittels Canny Algorithmus\n",
    "low_threshold = 5\n",
    "high_threshold = 200\n",
    "image_canny = cv2.Canny(image_gray, low_threshold, high_threshold)\n",
    "\n",
    "# 'Region of Interrest' im Bild definieren - Es wird nur der untere Teil des Bildes verwendet\n",
    "region_points = np.array( [[[0,370],[960,370],[960,540],[0,540]]], dtype=np.int32 )\n",
    "mask = np.zeros_like(image_canny)\n",
    "cv2.fillPoly(mask, region_points, 255)\n",
    "image_region = cv2.bitwise_and(image_canny, mask)\n"
   ]
  },
  {
   "cell_type": "markdown",
   "metadata": {},
   "source": [
    "\n",
    "### Testbild generieren\n",
    "\n",
    "Alternativ kann hier zu Testzwecken ein Bild mit selbst gezeichneten Linien generiert werden."
   ]
  },
  {
   "cell_type": "code",
   "execution_count": 5,
   "metadata": {},
   "outputs": [],
   "source": [
    "\n",
    "bildbreite = 100\n",
    "bildhoehe = 100\n",
    "\n",
    "test_pattern_rgb = np.zeros((bildbreite, bildhoehe, 3), dtype=np.uint8)\n",
    "\n",
    "# Horizontale Linien\n",
    "##cv2.line(test_pattern_rgb, (0, 20), (99, 20), [255, 255, 255], 1)\n",
    "##cv2.line(test_pattern_rgb, (0, 50), (99, 50), [255, 255, 255], 1)\n",
    "##cv2.line(test_pattern_rgb, (0, 70), (99, 70), [255, 255, 255], 1)\n",
    "\n",
    "# Vertikale Linien\n",
    "##cv2.line(test_pattern_rgb, (40, 0), (40, 99), [255, 255, 255], 1)\n",
    "##cv2.line(test_pattern_rgb, (60, 0), (60, 99), [255, 255, 255], 1)\n",
    "\n",
    "# Diagonale Linien\n",
    "##cv2.line(test_pattern_rgb, (0, 0), (99, 99), [255, 255, 255], 1)\n",
    "##cv2.line(test_pattern_rgb, (0, 99), (99, 0), [255, 255, 255], 1)\n",
    "##cv2.line(test_pattern_rgb, (0, 40), (59, 99), [255, 255, 255], 1)\n",
    "##cv2.line(test_pattern_rgb, (10, 0), (90, 99), [255, 255, 255], 1)\n",
    "##cv2.line(test_pattern_rgb, (70, 0), (99, 29), [255, 255, 255], 1)\n",
    "##cv2.line(test_pattern_rgb, (0, 40), (40, 0), [255, 255, 255], 1)\n",
    "\n",
    "\n",
    "############################\n",
    "### Fahrbahnlinien\n",
    "############################\n",
    "\n",
    "# links, spitzer Winkel\n",
    "cv2.line(test_pattern_rgb, (round(0.1* bildbreite), bildhoehe-1), (round(0.3*bildbreite), round(bildhoehe*0.6)), [255, 255, 255], 1)\n",
    "# links, stumpfer Winkel\n",
    "##cv2.line(test_pattern_rgb, (round(0.1* bildbreite), bildhoehe-1), (round(0.7*bildbreite), round(bildhoehe*0.6)), [255, 255, 255], 1)\n",
    "\n",
    "# rechts, spitzer Winkel\n",
    "cv2.line(test_pattern_rgb, (round(0.9* bildbreite), bildhoehe-1), (round(0.7*bildbreite), round(bildhoehe*0.6)), [255, 255, 255], 1)\n",
    "#rechts, stumpfer Winkel\n",
    "##cv2.line(test_pattern_rgb, (round(0.9* bildbreite), bildhoehe-1), (round(0.4*bildbreite), round(bildhoehe*0.6)), [255, 255, 255], 1)\n",
    "\n",
    "# Nur 1 Punkt\n",
    "##cv2.line(test_pattern_rgb, (20, 50), (20, 50), [255, 255, 255], 1)\n",
    "\n",
    "\n",
    "# In Graustufen umwandeln\n",
    "test_pattern = cv2.cvtColor(test_pattern_rgb, cv2.COLOR_RGB2GRAY)\n",
    "\n",
    "\n",
    "\n",
    "\n"
   ]
  },
  {
   "cell_type": "markdown",
   "metadata": {},
   "source": [
    "# Testmuster oder Bild auswählen"
   ]
  },
  {
   "cell_type": "code",
   "execution_count": 132,
   "metadata": {},
   "outputs": [
    {
     "name": "stdout",
     "output_type": "stream",
     "text": [
      "Bildgröße: X= 960  Y= 540\n"
     ]
    },
    {
     "data": {
      "text/plain": [
       "<matplotlib.image.AxesImage at 0x1121aeb38>"
      ]
     },
     "execution_count": 132,
     "metadata": {},
     "output_type": "execute_result"
    },
    {
     "data": {
      "image/png": "[encoded data removed]",
      "text/plain": [
       "<matplotlib.figure.Figure at 0x112170240>"
      ]
     },
     "metadata": {},
     "output_type": "display_data"
    }
   ],
   "source": [
    "SELECT_TESTPATTERN = 1\n",
    "\n",
    "if SELECT_TESTPATTERN == 1:\n",
    "    input_image = test_pattern_rgb\n",
    "    preprocessed_image = test_pattern\n",
    "\n",
    "else:\n",
    "    input_image = image\n",
    "    preprocessed_image = image_region\n",
    "    bildbreite = preprocessed_image.shape[1]\n",
    "    bildhoehe = preprocessed_image.shape[0]\n",
    "\n",
    "\n",
    "print('Bildgröße: X=', bildbreite, ' Y=', bildhoehe)\n",
    "plt.figure()\n",
    "plt.imshow(preprocessed_image, cmap='gray')"
   ]
  },
  {
   "cell_type": "markdown",
   "metadata": {},
   "source": [
    "\n",
    "## Punktkoordinaten der gefundenen Kanten in einer Liste speichern\n",
    "\n",
    "Die Punktkoordinaten werden später von der Hardware übergeben. Für den Hough-Entwurf in diesem Notebook wird hier die Liste generiert. Dazu müssen die X- und Y-Koordinaten aller weißen Pixel des vorverarbeiteten Eingabebildes in einer Liste gespeichert werden."
   ]
  },
  {
   "cell_type": "code",
   "execution_count": 133,
   "metadata": {
    "scrolled": true
   },
   "outputs": [
    {
     "name": "stdout",
     "output_type": "stream",
     "text": [
      "Gefundene Punkte: 1809\n"
     ]
    }
   ],
   "source": [
    "\n",
    "# Maximale Größe der Punkte-Liste\n",
    "MAX_POINTS = 5000\n",
    "\n",
    "# Liste anlegen\n",
    "points = [None] * MAX_POINTS\n",
    "\n",
    "# Punkte-Zähler zurücksetzen\n",
    "point_counter=0\n",
    "\n",
    "### TODO ###: Durchsuche das komplette Bild nach weißen Pixeln und speichere die Koordinaten in einer Liste\n",
    "for r in range(bildhoehe):\n",
    "    for c in range(bildbreite):\n",
    "        if(preprocessed_image[r][c] != 0):\n",
    "            points[point_counter] = (r,c)\n",
    "            point_counter += 1\n",
    "\n",
    "# Anzahl gefundener Punkte ausgeben\n",
    "print('Gefundene Punkte:',point_counter)"
   ]
  },
  {
   "cell_type": "markdown",
   "metadata": {},
   "source": [
    "\n",
    "# Hough Transformation\n",
    "\n",
    "Ab hier wird der Algorithmus dann später vom ARM Prozessor umgesetzt.\n",
    "\n",
    "Nähere Informationen zum Linien-Hough findet man unter https://de.wikipedia.org/wiki/Hough-Transformation"
   ]
  },
  {
   "cell_type": "markdown",
   "metadata": {},
   "source": [
    "\n",
    "### Parameter festlegen"
   ]
  },
  {
   "cell_type": "code",
   "execution_count": 134,
   "metadata": {
    "scrolled": true
   },
   "outputs": [
    {
     "name": "stdout",
     "output_type": "stream",
     "text": [
      "Maximale Normalen-Distanz: 1101\n",
      "Minimale Normalen-Distanz: -1101\n",
      "Winkelauflösung: 180\n"
     ]
    }
   ],
   "source": [
    "# Maximale Größe der Normalen einer Linie und Bildmittelpunkt\n",
    "\n",
    "max_abstand = round(math.sqrt( (bildbreite)**2 + (bildhoehe)**2))\n",
    "\n",
    "min_abstand = max_abstand * -1\n",
    "\n",
    "\n",
    "# Anzahl der Auflösungsschritte (in einem Halbkreis) zur Richtungsbestimmung einer Linie\n",
    "winkel_aufloesung = 180\n",
    "\n",
    "print('Maximale Normalen-Distanz:',max_abstand)\n",
    "print('Minimale Normalen-Distanz:',min_abstand)\n",
    "print('Winkelauflösung:',winkel_aufloesung)"
   ]
  },
  {
   "cell_type": "markdown",
   "metadata": {},
   "source": [
    "\n",
    "\n",
    "### Hough-Raum berechnen"
   ]
  },
  {
   "cell_type": "code",
   "execution_count": 135,
   "metadata": {},
   "outputs": [],
   "source": [
    "# schwarzes Bild für Hough Raum generieren\n",
    "houghRaum = np.zeros((max_abstand - min_abstand, winkel_aufloesung), dtype=np.uint8)\n",
    "\n",
    "\n",
    "### TODO ###: Hough Transformation für jeden Pixel durchführen und in houghRaum speichern\n",
    "for p in range(point_counter):\n",
    "    for alpha in range(winkel_aufloesung):\n",
    "        bla = (points[p][1])*np.cos((alpha/180.)*np.pi) + points[p][0]*np.sin((alpha/180.)*np.pi)\n",
    "        d = int(round(bla))-min_abstand\n",
    "        #print(bla, d)\n",
    "        houghRaum[d][alpha] += 1"
   ]
  },
  {
   "cell_type": "markdown",
   "metadata": {},
   "source": [
    "### Maximum im Hough-Raum finden"
   ]
  },
  {
   "cell_type": "code",
   "execution_count": 136,
   "metadata": {},
   "outputs": [
    {
     "name": "stdout",
     "output_type": "stream",
     "text": [
      "Maximale Überschneidungen: 223   Winkel(x): 122  Distanz(y): 1105\n"
     ]
    }
   ],
   "source": [
    "# Maximum zurücksetzen\n",
    "hough_max = 0\n",
    "hough_max_position = [0,0]\n",
    "\n",
    "### TODO ###\n",
    "for d in range(max_abstand-min_abstand):\n",
    "    for a in range(winkel_aufloesung):\n",
    "        if (houghRaum[d][a] > hough_max):\n",
    "            hough_max = houghRaum[d][a]\n",
    "            hough_max_position = [d,a]\n",
    "\n",
    "\n",
    "\n",
    "            \n",
    "hough_distanz = hough_max_position[0]\n",
    "hough_winkel = hough_max_position[1]\n",
    "    \n",
    "# gefundenes Maximum ausgeben\n",
    "print('Maximale Überschneidungen:',hough_max,'  Winkel(x):',hough_winkel,' Distanz(y):',hough_distanz)\n",
    "\n"
   ]
  },
  {
   "cell_type": "markdown",
   "metadata": {},
   "source": [
    "### Hough-Raum auf gefundenes Maximum normalisieren\n",
    "\n",
    "... um die Transformation in den Hough-Raum zu plotten.\n",
    "Beim generierten Testbild sollte das Ergebnis in etwa so aussehen:\n",
    "![(misc/example_hough_space.png)](misc/example_hough_space.png)"
   ]
  },
  {
   "cell_type": "code",
   "execution_count": 137,
   "metadata": {
    "scrolled": false
   },
   "outputs": [
    {
     "name": "stdout",
     "output_type": "stream",
     "text": [
      "Maximale Überschneidungen: 223   Winkel(x): 122  Distanz(y): 1105\n"
     ]
    },
    {
     "data": {
      "image/png": "[encoded data removed]",
      "text/plain": [
       "<matplotlib.figure.Figure at 0x111f6c898>"
      ]
     },
     "metadata": {},
     "output_type": "display_data"
    },
    {
     "data": {
      "image/png": "[encoded data removed]",
      "text/plain": [
       "<matplotlib.figure.Figure at 0x1126ddd68>"
      ]
     },
     "metadata": {},
     "output_type": "display_data"
    }
   ],
   "source": [
    "\n",
    "\n",
    "houghRaum_Normalized = np.zeros(( max_abstand - min_abstand , winkel_aufloesung, 3), dtype=np.uint8)\n",
    "\n",
    "\n",
    "### TODO ###: Normalisierter Hough-Raum\n",
    "houghRaum_Normalized = houghRaum\n",
    "\n",
    "# Original Bild ausgeben\n",
    "fig = plt.figure()\n",
    "plt.xlabel('X')\n",
    "plt.ylabel('Y')\n",
    "plt.imshow(preprocessed_image, cmap='gray')\n",
    "plt.title('Eingabebild')\n",
    "\n",
    "# Hough-Raum ausgeben\n",
    "fig2 = plt.figure()\n",
    "plt.xlabel('Winkel:   (0 - winkel_aufloesung)')\n",
    "plt.ylabel('Distanz mit Offset (-141 to +141 )')\n",
    "plt.imshow(houghRaum_Normalized, cmap='gray')\n",
    "plt.title('Hough Raum')\n",
    "\n",
    "# gefundenes Maximum ausgeben\n",
    "print('Maximale Überschneidungen:',hough_max,'  Winkel(x):',hough_winkel,' Distanz(y):',hough_distanz)\n",
    "\n"
   ]
  },
  {
   "cell_type": "markdown",
   "metadata": {},
   "source": [
    "### Linie zeichnen\n",
    "\n",
    "Der nachfolgende Block 'Ausgabebild erstellen' wird die Funktion 'hough_linie_zeichnen' aufrufen. Die Funktion erhält Winkel und Distanz vom Maximum im Hough-Raum und soll die Linienkooridinaten (x1,y1,x2,y2) zurückgeben. Die Linie wird anschließend in das Eingangsbild gezeichnet."
   ]
  },
  {
   "cell_type": "code",
   "execution_count": 140,
   "metadata": {},
   "outputs": [],
   "source": [
    "def hough_linie_zeichnen(winkel,distanz):\n",
    "\n",
    "   \n",
    "    ### TODO ###\n",
    "    alpha = (np.pi)*(winkel/180.)\n",
    "    y1 = bildhoehe\n",
    "    x1 = (distanz + min_abstand - y1*np.sin(alpha)) / np.cos(alpha)\n",
    "    y2 = 0.6*bildhoehe\n",
    "    x2 = (distanz + min_abstand - y2*np.sin(alpha)) / np.cos(alpha)\n",
    "    \n",
    "    x1 = int(round(x1))\n",
    "    x2 = int(round(x2))\n",
    "    y1 = int(y1)\n",
    "    y2 = int(y2)\n",
    "    return [x1,y1,x2,y2]\n"
   ]
  },
  {
   "cell_type": "markdown",
   "metadata": {},
   "source": [
    "### Ausgabebild erstellen"
   ]
  },
  {
   "cell_type": "code",
   "execution_count": 162,
   "metadata": {},
   "outputs": [
    {
     "name": "stdout",
     "output_type": "stream",
     "text": [
      "Koordinaten der Linienpunkte (x1,y1,x2,y2): [857, 540, 511, 324]\n"
     ]
    },
    {
     "data": {
      "text/plain": [
       "<matplotlib.image.AxesImage at 0x111f0fe80>"
      ]
     },
     "execution_count": 162,
     "metadata": {},
     "output_type": "execute_result"
    },
    {
     "data": {
      "image/png": "[encoded data removed]",
      "text/plain": [
       "<matplotlib.figure.Figure at 0x110ee2d68>"
      ]
     },
     "metadata": {},
     "output_type": "display_data"
    }
   ],
   "source": [
    "\n",
    "# neues schwarzes Bild generieren\n",
    "result_image = np.zeros((bildhoehe, bildbreite, 3), dtype=np.uint8)\n",
    "\n",
    "# Koordinaten für Linie berechnen\n",
    "punkte_gerade = hough_linie_zeichnen(hough_winkel,hough_distanz)\n",
    "print('Koordinaten der Linienpunkte (x1,y1,x2,y2):',punkte_gerade)\n",
    "\n",
    "# Linie zeichnen\n",
    "cv2.line(result_image, (punkte_gerade[0], punkte_gerade[1]), (punkte_gerade[2], punkte_gerade[3]), [255, 0, 0], 5)\n",
    "\n",
    "\n",
    "\n",
    "# Hough-Linie mit Eingangsbild überlagern \n",
    "bild_ueberlagert = cv2.addWeighted(input_image, 0.8, result_image, 1, 0.)\n",
    "\n",
    "# Bild ausgeben\n",
    "fig = plt.figure()\n",
    "##plt.imshow(result_image)\n",
    "plt.imshow(bild_ueberlagert)\n",
    "\n",
    "\n"
   ]
  },
  {
   "cell_type": "markdown",
   "metadata": {},
   "source": [
    "# Videostream\n",
    "\n",
    "Nun soll eine Funktion beschrieben werden, die als Eingang die Einzelbilder eines Videostreams bekommt und diese Einzelbilder verarbeitet zurückgibt. Dabei sollen\n",
    "\n",
    "- die linke und rechte Fahrspur getrennt betrachten\n",
    "- die Hough-Transformation auf eine sinnvolle Winkelregion und Distanz beschränkt werden\n",
    "- optional der Algorithmus weiter optimiert werden"
   ]
  },
  {
   "cell_type": "code",
   "execution_count": 228,
   "metadata": {},
   "outputs": [],
   "source": [
    "\n",
    "def bildverarbeitungskette(image):\n",
    "    \n",
    "    bildhoehe = image.shape[0]\n",
    "    bildbreite = image.shape[1]\n",
    "\n",
    "    # Graustufen\n",
    "    image_gray = cv2.cvtColor(image, cv2.COLOR_RGB2GRAY)\n",
    "\n",
    "    # Canny Algorithmus\n",
    "    low_threshold = 5\n",
    "    high_threshold = 200\n",
    "    image_canny = cv2.Canny(image_gray, low_threshold, high_threshold)\n",
    "\n",
    "    # Region of interrest - nur untere Hälfte des Bildes betrachten\n",
    "    region_points = np.array( [[[0,bildhoehe*0.6],[bildbreite,bildhoehe*0.6],[bildbreite,bildhoehe],[0,bildhoehe]]], dtype=np.int32 )\n",
    "    mask = np.zeros_like(image_canny)\n",
    "    cv2.fillPoly(mask, region_points, 255)\n",
    "    image_region = cv2.bitwise_and(image_canny, mask)\n",
    "    \n",
    "    ### TODO ###\n",
    "    \n",
    "    # Maximale Größe der Punkte-Liste\n",
    "    MAX_POINTS = 50000\n",
    "\n",
    "    # Liste anlegen\n",
    "    points = [None] * MAX_POINTS\n",
    "\n",
    "    # Punkte-Zähler zurücksetzen\n",
    "    point_counter=0\n",
    "\n",
    "    ### TODO ###: Durchsuche das komplette Bild nach weißen Pixeln und speichere die Koordinaten in einer Liste\n",
    "    preprocessed_image = image_region\n",
    "    bildhoehe1 = preprocessed_image.shape[0]\n",
    "    bildbreite1 = preprocessed_image.shape[1]\n",
    "    for r in range(bildhoehe1):\n",
    "        for c in range(bildbreite1):\n",
    "            if(preprocessed_image[r][c] != 0):\n",
    "                points[point_counter] = (r,c)\n",
    "                point_counter += 1\n",
    "\n",
    "   \n",
    "    max_abstand = round(math.sqrt( (bildbreite)**2 + (bildhoehe)**2))\n",
    "    min_abstand = max_abstand * -1\n",
    "    winkel_aufloesung = 180\n",
    "    \n",
    "    \n",
    "    houghRaum = np.zeros((max_abstand - min_abstand, winkel_aufloesung), dtype=np.uint8)\n",
    "    ### Hough Transformation für jeden Pixel durchführen und in houghRaum speichern\n",
    "    for p in range(point_counter):\n",
    "        for alpha in range(winkel_aufloesung):\n",
    "            bla = (points[p][1])*np.cos((alpha/180.)*np.pi) + points[p][0]*np.sin((alpha/180.)*np.pi)\n",
    "            d = int(round(bla))-min_abstand\n",
    "            #print(bla, d)\n",
    "            houghRaum[d][alpha] += 1\n",
    "    \n",
    "    hough_max_1 = 0\n",
    "    hough_max_2 = 0\n",
    "    hough_max_1_position = [0,0]\n",
    "    hough_max_2_position = [0,0]\n",
    "\n",
    "    for d in range(max_abstand-min_abstand):\n",
    "        for a in range(int(winkel_aufloesung/2)):\n",
    "            if (houghRaum[d][a] > hough_max_1): \n",
    "                hough_max_1 = houghRaum[d][a]\n",
    "                hough_max_1_position = [d,a]\n",
    "                \n",
    "   \n",
    "    for d in range(max_abstand-min_abstand):\n",
    "        for a in range (int(winkel_aufloesung/2), winkel_aufloesung):\n",
    "            if (houghRaum[d][a] > hough_max_2): \n",
    "                hough_max_2 = houghRaum[d][a]\n",
    "                hough_max_2_position = [d,a]\n",
    "          \n",
    "    hough_distanz_1 = hough_max_1_position[0]\n",
    "    hough_winkel_1 = hough_max_1_position[1]\n",
    "    hough_distanz_2 = hough_max_2_position[0]\n",
    "    hough_winkel_2 = hough_max_2_position[1]\n",
    "    \n",
    "    input_image = image\n",
    "    result_image = np.zeros((image_region.shape[0], image_region.shape[1]), dtype=np.uint8)\n",
    "    #result_image = np.zeros_like(image)\n",
    "    \n",
    "    punkte_gerade = hough_linie_zeichnen(hough_winkel_1,hough_distanz_1)\n",
    "    cv2.line(result_image, (punkte_gerade[0], punkte_gerade[1]), (punkte_gerade[2], punkte_gerade[3]), [255, 0, 0], 5)\n",
    "    punkte_gerade = hough_linie_zeichnen(hough_winkel_2,hough_distanz_2)\n",
    "    cv2.line(result_image, (punkte_gerade[0], punkte_gerade[1]), (punkte_gerade[2], punkte_gerade[3]), [255, 0, 0], 5)\n",
    "\n",
    "    # Hough-Linie mit Eingangsbild überlagern \n",
    "    #image_region = cv2.addWeighted(image_region, 0.8, result_image, 1, 0.)\n",
    "    image_region = cv2.addWeighted(input_image, 0.8, cv2.cvtColor(result_image, cv2.COLOR_GRAY2RGB), 1, 0.)\n",
    "    \n",
    "    # Ausgangsbild muss im RGB Format sein\n",
    "    #backtorgb = cv2.cvtColor(image_region,cv2.COLOR_GRAY2RGB)\n",
    "\n",
    "    #return backtorgb\n",
    "    return image_region"
   ]
  },
  {
   "cell_type": "markdown",
   "metadata": {},
   "source": [
    "### Video umwandeln\n",
    "\n",
    "Es stehen folgende Videos zur Verfügung:"
   ]
  },
  {
   "cell_type": "code",
   "execution_count": 229,
   "metadata": {
    "scrolled": true
   },
   "outputs": [
    {
     "data": {
      "text/plain": [
       "['solidWhiteRight.mp4', 'challenge.mp4', 'solidYellowLeft.mp4']"
      ]
     },
     "execution_count": 229,
     "metadata": {},
     "output_type": "execute_result"
    }
   ],
   "source": [
    "import os\n",
    "\n",
    "os.listdir(\"test_videos/\")"
   ]
  },
  {
   "cell_type": "markdown",
   "metadata": {},
   "source": [
    "##### Die Videokonvertierung muss noch mit der Variable 'enable_video' aktiviert werden"
   ]
  },
  {
   "cell_type": "code",
   "execution_count": 232,
   "metadata": {
    "scrolled": true
   },
   "outputs": [
    {
     "name": "stdout",
     "output_type": "stream",
     "text": [
      "[MoviePy] >>>> Building video /Users/lukas/Documents/Universitaet/Studium/WS_17-18/mapra/aufgaben/aufgabe01_application/aufgabe01_fahrspurerkennung/test_videos_output/solidWhiteRight.webm\n",
      "[MoviePy] Writing video /Users/lukas/Documents/Universitaet/Studium/WS_17-18/mapra/aufgaben/aufgabe01_application/aufgabe01_fahrspurerkennung/test_videos_output/solidWhiteRight.webm\n"
     ]
    },
    {
     "name": "stderr",
     "output_type": "stream",
     "text": [
      "\n",
      "\n",
      "  0%|          | 0/266 [00:00<?, ?it/s]\u001b[A\u001b[A\n",
      "\n",
      "  0%|          | 1/266 [00:09<42:25,  9.60s/it]\u001b[A\u001b[A\n",
      "\n",
      "  1%|          | 2/266 [00:20<43:35,  9.91s/it]\u001b[A\u001b[A\n",
      "\n",
      "  1%|          | 3/266 [00:31<44:59, 10.26s/it]\u001b[A\u001b[A\n",
      "\n",
      "  2%|▏         | 4/266 [00:41<44:16, 10.14s/it]\u001b[A\u001b[A\n",
      "\n",
      "  2%|▏         | 5/266 [00:50<43:17,  9.95s/it]\u001b[A\u001b[A\n",
      "\n",
      "  2%|▏         | 6/266 [00:59<41:32,  9.59s/it]\u001b[A\u001b[A\n",
      "\n",
      "  3%|▎         | 7/266 [01:08<40:09,  9.30s/it]\u001b[A\u001b[A\n",
      "\n",
      "  3%|▎         | 8/266 [01:16<39:29,  9.18s/it]\u001b[A\u001b[A\n",
      "\n",
      "  3%|▎         | 9/266 [01:27<40:45,  9.51s/it]\u001b[A\u001b[A\n",
      "\n",
      "  4%|▍         | 10/266 [01:35<39:32,  9.27s/it]\u001b[A\u001b[A\n",
      "\n",
      "  4%|▍         | 11/266 [01:44<37:52,  8.91s/it]\u001b[A\u001b[A\n",
      "\n",
      "  5%|▍         | 12/266 [01:50<35:07,  8.30s/it]\u001b[A\u001b[A\n",
      "\n",
      "  5%|▍         | 13/266 [01:58<33:34,  7.96s/it]\u001b[A\u001b[A\n",
      "\n",
      "  5%|▌         | 14/266 [02:05<32:22,  7.71s/it]\u001b[A\u001b[A\n",
      "\n",
      "  6%|▌         | 15/266 [02:12<31:09,  7.45s/it]\u001b[A\u001b[A\n",
      "\n",
      "  6%|▌         | 16/266 [02:18<30:26,  7.31s/it]\u001b[A\u001b[A\n",
      "\n",
      "  6%|▋         | 17/266 [02:25<29:14,  7.05s/it]\u001b[A\u001b[A\n",
      "\n",
      "  7%|▋         | 18/266 [02:32<28:48,  6.97s/it]\u001b[A\u001b[A\n",
      "\n",
      "  7%|▋         | 19/266 [02:38<27:37,  6.71s/it]\u001b[A\u001b[A\n",
      "\n",
      "  8%|▊         | 20/266 [02:44<26:49,  6.54s/it]\u001b[A\u001b[A\n",
      "\n",
      "  8%|▊         | 21/266 [02:51<26:47,  6.56s/it]\u001b[A\u001b[A\n",
      "\n",
      "  8%|▊         | 22/266 [02:57<26:44,  6.58s/it]\u001b[A\u001b[A\n",
      "\n",
      "  9%|▊         | 23/266 [03:03<26:15,  6.49s/it]\u001b[A\u001b[A\n",
      "\n",
      "  9%|▉         | 24/266 [03:11<27:50,  6.90s/it]\u001b[A\u001b[A\n",
      "\n",
      "  9%|▉         | 25/266 [03:19<29:00,  7.22s/it]\u001b[A\u001b[A\n",
      "\n",
      " 10%|▉         | 26/266 [03:27<29:31,  7.38s/it]\u001b[A\u001b[A\n",
      "\n",
      " 10%|█         | 27/266 [03:34<29:22,  7.37s/it]\u001b[A\u001b[A\n",
      "\n",
      " 11%|█         | 28/266 [03:42<29:41,  7.48s/it]\u001b[A\u001b[A\n",
      "\n",
      " 11%|█         | 29/266 [03:49<29:08,  7.38s/it]\u001b[A\u001b[A\n",
      "\n",
      " 11%|█▏        | 30/266 [03:56<28:44,  7.31s/it]\u001b[A\u001b[A\n",
      "\n",
      " 12%|█▏        | 31/266 [04:04<28:32,  7.29s/it]\u001b[A\u001b[A\n",
      "\n",
      " 12%|█▏        | 32/266 [04:11<28:20,  7.27s/it]\u001b[A\u001b[A\n",
      "\n",
      " 12%|█▏        | 33/266 [04:18<28:29,  7.34s/it]\u001b[A\u001b[A\n",
      "\n",
      " 13%|█▎        | 34/266 [04:26<28:10,  7.29s/it]\u001b[A\u001b[A\n",
      "\n",
      " 13%|█▎        | 35/266 [04:33<27:50,  7.23s/it]\u001b[A\u001b[A\n",
      "\n",
      " 14%|█▎        | 36/266 [04:39<26:23,  6.89s/it]\u001b[A\u001b[A\n",
      "\n",
      " 14%|█▍        | 37/266 [04:46<26:12,  6.87s/it]\u001b[A\u001b[A\n",
      "\n",
      " 14%|█▍        | 38/266 [04:52<26:03,  6.86s/it]\u001b[A\u001b[A\n",
      "\n",
      " 15%|█▍        | 39/266 [04:59<25:52,  6.84s/it]\u001b[A\u001b[A\n",
      "\n",
      " 15%|█▌        | 40/266 [05:06<25:53,  6.87s/it]\u001b[A\u001b[A\n",
      "\n",
      " 15%|█▌        | 41/266 [05:13<26:08,  6.97s/it]\u001b[A\u001b[A\n",
      "\n",
      " 16%|█▌        | 42/266 [05:21<26:37,  7.13s/it]\u001b[A\u001b[A\n",
      "\n",
      " 16%|█▌        | 43/266 [05:28<26:41,  7.18s/it]\u001b[A\u001b[A\n",
      "\n",
      " 17%|█▋        | 44/266 [05:35<26:36,  7.19s/it]\u001b[A\u001b[A\n",
      "\n",
      " 17%|█▋        | 45/266 [05:43<26:34,  7.22s/it]\u001b[A\u001b[A\n",
      "\n",
      " 17%|█▋        | 46/266 [05:50<26:28,  7.22s/it]\u001b[A\u001b[A\n",
      "\n",
      " 18%|█▊        | 47/266 [05:58<26:50,  7.35s/it]\u001b[A\u001b[A\n",
      "\n",
      " 18%|█▊        | 48/266 [06:05<26:40,  7.34s/it]\u001b[A\u001b[A\n",
      "\n",
      " 18%|█▊        | 49/266 [06:12<26:51,  7.43s/it]\u001b[A\u001b[A\n",
      "\n",
      " 19%|█▉        | 50/266 [06:20<27:05,  7.53s/it]\u001b[A\u001b[A\n",
      "\n",
      " 19%|█▉        | 51/266 [06:27<26:16,  7.33s/it]\u001b[A\u001b[A\n",
      "\n",
      " 20%|█▉        | 52/266 [06:34<25:47,  7.23s/it]\u001b[A\u001b[A\n",
      "\n",
      " 20%|█▉        | 53/266 [06:41<25:18,  7.13s/it]\u001b[A\u001b[A\n",
      "\n",
      " 20%|██        | 54/266 [06:48<25:07,  7.11s/it]\u001b[A\u001b[A\n",
      "\n",
      " 21%|██        | 55/266 [06:55<24:53,  7.08s/it]\u001b[A\u001b[A\n",
      "\n",
      " 21%|██        | 56/266 [07:02<24:37,  7.04s/it]\u001b[A\u001b[A\n",
      "\n",
      " 21%|██▏       | 57/266 [07:09<24:18,  6.98s/it]\u001b[A\u001b[A\n",
      "\n",
      " 22%|██▏       | 58/266 [07:16<24:20,  7.02s/it]\u001b[A\u001b[A\n",
      "\n",
      " 22%|██▏       | 59/266 [07:23<24:22,  7.06s/it]\u001b[A\u001b[A\n",
      "\n",
      " 23%|██▎       | 60/266 [07:30<24:15,  7.07s/it]\u001b[A\u001b[A\n",
      "\n",
      " 23%|██▎       | 61/266 [07:37<24:20,  7.12s/it]\u001b[A\u001b[A\n",
      "\n",
      " 23%|██▎       | 62/266 [07:45<24:26,  7.19s/it]\u001b[A\u001b[A\n",
      "\n",
      " 24%|██▎       | 63/266 [07:51<23:36,  6.98s/it]\u001b[A\u001b[A\n",
      "\n",
      " 24%|██▍       | 64/266 [07:58<22:57,  6.82s/it]\u001b[A\u001b[A\n",
      "\n",
      " 24%|██▍       | 65/266 [08:04<22:19,  6.66s/it]\u001b[A\u001b[A\n",
      "\n",
      " 25%|██▍       | 66/266 [08:10<21:47,  6.54s/it]\u001b[A\u001b[A\n",
      "\n",
      " 25%|██▌       | 67/266 [08:17<21:25,  6.46s/it]\u001b[A\u001b[A\n",
      "\n",
      " 26%|██▌       | 68/266 [08:23<21:08,  6.41s/it]\u001b[A\u001b[A\n",
      "\n",
      " 26%|██▌       | 69/266 [08:29<20:54,  6.37s/it]\u001b[A\u001b[A\n",
      "\n",
      " 26%|██▋       | 70/266 [08:36<21:21,  6.54s/it]\u001b[A\u001b[A\n",
      "\n",
      " 27%|██▋       | 71/266 [08:43<21:47,  6.70s/it]\u001b[A\u001b[A\n",
      "\n",
      " 27%|██▋       | 72/266 [08:50<22:14,  6.88s/it]\u001b[A\u001b[A\n",
      "\n",
      " 27%|██▋       | 73/266 [08:58<22:41,  7.05s/it]\u001b[A\u001b[A\n",
      "\n",
      " 28%|██▊       | 74/266 [09:05<22:57,  7.17s/it]\u001b[A\u001b[A\n",
      "\n",
      " 28%|██▊       | 75/266 [09:13<23:11,  7.29s/it]\u001b[A\u001b[A\n",
      "\n",
      " 29%|██▊       | 76/266 [09:20<23:02,  7.27s/it]\u001b[A\u001b[A\n",
      "\n",
      " 29%|██▉       | 77/266 [09:28<23:03,  7.32s/it]\u001b[A\u001b[A\n",
      "\n",
      " 29%|██▉       | 78/266 [09:34<22:27,  7.17s/it]\u001b[A\u001b[A\n",
      "\n",
      " 30%|██▉       | 79/266 [09:41<22:14,  7.14s/it]\u001b[A\u001b[A\n",
      "\n",
      " 30%|███       | 80/266 [09:49<22:02,  7.11s/it]\u001b[A\u001b[A\n",
      "\n",
      " 30%|███       | 81/266 [09:55<21:41,  7.03s/it]\u001b[A\u001b[A\n",
      "\n",
      " 31%|███       | 82/266 [10:02<21:21,  6.96s/it]\u001b[A\u001b[A\n",
      "\n",
      " 31%|███       | 83/266 [10:09<21:15,  6.97s/it]\u001b[A\u001b[A\n",
      "\n",
      " 32%|███▏      | 84/266 [10:16<21:25,  7.06s/it]\u001b[A\u001b[A\n",
      "\n",
      " 32%|███▏      | 85/266 [10:24<21:33,  7.14s/it]\u001b[A\u001b[A\n",
      "\n",
      " 32%|███▏      | 86/266 [10:31<21:32,  7.18s/it]\u001b[A\u001b[A\n",
      "\n",
      " 33%|███▎      | 87/266 [10:38<21:17,  7.14s/it]\u001b[A\u001b[A\n",
      "\n",
      " 33%|███▎      | 88/266 [10:45<21:03,  7.10s/it]\u001b[A\u001b[A\n",
      "\n",
      " 33%|███▎      | 89/266 [10:52<21:08,  7.17s/it]\u001b[A\u001b[A\n",
      "\n",
      " 34%|███▍      | 90/266 [10:59<20:54,  7.13s/it]\u001b[A\u001b[A\n",
      "\n",
      " 34%|███▍      | 91/266 [11:07<20:50,  7.14s/it]\u001b[A\u001b[A\n",
      "\n",
      " 35%|███▍      | 92/266 [11:14<20:46,  7.17s/it]\u001b[A\u001b[A\n",
      "\n",
      " 35%|███▍      | 93/266 [11:21<20:22,  7.07s/it]\u001b[A\u001b[A\n",
      "\n",
      " 35%|███▌      | 94/266 [11:27<19:46,  6.90s/it]\u001b[A\u001b[A\n",
      "\n",
      " 36%|███▌      | 95/266 [11:34<19:55,  6.99s/it]\u001b[A\u001b[A\n",
      "\n",
      " 36%|███▌      | 96/266 [11:41<19:42,  6.96s/it]\u001b[A\u001b[A\n",
      "\n",
      " 36%|███▋      | 97/266 [11:49<20:34,  7.31s/it]\u001b[A\u001b[A\n",
      "\n",
      " 37%|███▋      | 98/266 [11:58<21:27,  7.66s/it]\u001b[A\u001b[A\n",
      "\n",
      " 37%|███▋      | 99/266 [12:05<20:58,  7.54s/it]\u001b[A\u001b[A\n",
      "\n",
      " 38%|███▊      | 100/266 [12:13<20:56,  7.57s/it]\u001b[A\u001b[A\n",
      "\n",
      " 38%|███▊      | 101/266 [12:21<21:03,  7.66s/it]\u001b[A\u001b[A\n",
      "\n",
      " 38%|███▊      | 102/266 [12:29<21:19,  7.80s/it]\u001b[A\u001b[A\n",
      "\n",
      " 39%|███▊      | 103/266 [12:38<22:10,  8.16s/it]\u001b[A\u001b[A\n",
      "\n",
      " 39%|███▉      | 104/266 [12:47<22:44,  8.42s/it]\u001b[A\u001b[A\n",
      "\n",
      " 39%|███▉      | 105/266 [12:55<22:31,  8.40s/it]\u001b[A\u001b[A\n",
      "\n",
      " 40%|███▉      | 106/266 [13:03<22:09,  8.31s/it]\u001b[A\u001b[A\n",
      "\n",
      " 40%|████      | 107/266 [13:11<21:31,  8.12s/it]\u001b[A\u001b[A\n",
      "\n",
      " 41%|████      | 108/266 [13:18<20:48,  7.90s/it]\u001b[A\u001b[A\n",
      "\n",
      " 41%|████      | 109/266 [24:28<9:00:02, 206.39s/it]\u001b[A\u001b[A\n",
      "\n",
      " 41%|████▏     | 110/266 [24:38<6:23:35, 147.54s/it]\u001b[A\u001b[A\n",
      "\n",
      " 42%|████▏     | 111/266 [24:49<4:35:13, 106.54s/it]\u001b[A\u001b[A\n",
      "\n",
      " 42%|████▏     | 112/266 [24:58<3:18:30, 77.34s/it] \u001b[A\u001b[A\n",
      "\n",
      " 42%|████▏     | 113/266 [25:08<2:25:41, 57.14s/it]\u001b[A\u001b[A\n",
      "\n",
      " 43%|████▎     | 114/266 [25:26<1:54:34, 45.22s/it]\u001b[A\u001b[A\n",
      "\n",
      " 43%|████▎     | 115/266 [25:47<1:35:42, 38.03s/it]\u001b[A\u001b[A\n",
      "\n",
      " 44%|████▎     | 116/266 [26:00<1:16:22, 30.55s/it]\u001b[A\u001b[A\n",
      "\n",
      " 44%|████▍     | 117/266 [26:14<1:03:17, 25.49s/it]\u001b[A\u001b[A\n",
      "\n",
      " 44%|████▍     | 118/266 [26:38<1:02:03, 25.16s/it]\u001b[A\u001b[A\n",
      "\n",
      " 45%|████▍     | 119/266 [26:49<51:17, 20.93s/it]  \u001b[A\u001b[A\n",
      "\n",
      " 45%|████▌     | 120/266 [26:57<41:23, 17.01s/it]\u001b[A\u001b[A\n",
      "\n",
      " 45%|████▌     | 121/266 [27:05<34:40, 14.35s/it]\u001b[A\u001b[A\n",
      "\n",
      " 46%|████▌     | 122/266 [27:14<30:15, 12.61s/it]\u001b[A\u001b[A\n",
      "\n",
      " 46%|████▌     | 123/266 [27:21<26:33, 11.14s/it]\u001b[A\u001b[A\n",
      "\n",
      " 47%|████▋     | 124/266 [27:31<25:26, 10.75s/it]\u001b[A\u001b[A\n",
      "\n",
      " 47%|████▋     | 125/266 [27:43<26:09, 11.13s/it]\u001b[A\u001b[A\n",
      "\n",
      " 47%|████▋     | 126/266 [27:52<24:16, 10.41s/it]\u001b[A\u001b[A\n",
      "\n",
      " 48%|████▊     | 127/266 [28:03<24:41, 10.66s/it]\u001b[A\u001b[A\n",
      "\n",
      " 48%|████▊     | 128/266 [28:26<33:09, 14.42s/it]\u001b[A\u001b[A\n",
      "\n",
      " 48%|████▊     | 129/266 [28:40<32:05, 14.06s/it]\u001b[A\u001b[A\n",
      "\n",
      " 49%|████▉     | 130/266 [28:50<29:22, 12.96s/it]\u001b[A\u001b[A\n",
      "\n",
      " 49%|████▉     | 131/266 [28:58<26:00, 11.56s/it]\u001b[A\u001b[A\n",
      "\n",
      " 50%|████▉     | 132/266 [29:07<24:02, 10.77s/it]\u001b[A\u001b[A\n",
      "\n",
      " 50%|█████     | 133/266 [29:16<22:39, 10.22s/it]\u001b[A\u001b[A\n",
      "\n",
      " 50%|█████     | 134/266 [29:25<21:44,  9.88s/it]\u001b[A\u001b[A\n",
      "\n",
      " 51%|█████     | 135/266 [29:34<20:43,  9.49s/it]\u001b[A\u001b[A\n",
      "\n",
      " 51%|█████     | 136/266 [29:42<19:30,  9.00s/it]\u001b[A\u001b[A\n",
      "\n",
      " 52%|█████▏    | 137/266 [29:49<18:30,  8.61s/it]\u001b[A\u001b[A\n",
      "\n",
      " 52%|█████▏    | 138/266 [29:57<17:44,  8.32s/it]\u001b[A\u001b[A\n",
      "\n",
      " 52%|█████▏    | 139/266 [30:05<17:11,  8.13s/it]\u001b[A\u001b[A\n",
      "\n",
      " 53%|█████▎    | 140/266 [30:12<16:53,  8.05s/it]\u001b[A\u001b[A\n",
      "\n",
      " 53%|█████▎    | 141/266 [30:20<16:35,  7.96s/it]\u001b[A\u001b[A\n",
      "\n",
      " 53%|█████▎    | 142/266 [30:28<16:30,  7.99s/it]\u001b[A\u001b[A\n",
      "\n",
      " 54%|█████▍    | 143/266 [30:36<16:03,  7.83s/it]\u001b[A\u001b[A\n",
      "\n",
      " 54%|█████▍    | 144/266 [30:44<15:57,  7.85s/it]\u001b[A\u001b[A\n",
      "\n"
     ]
    },
    {
     "name": "stderr",
     "output_type": "stream",
     "text": [
      " 55%|█████▍    | 145/266 [30:53<16:30,  8.18s/it]\u001b[A\u001b[A\n",
      "\n",
      " 55%|█████▍    | 146/266 [31:02<16:49,  8.41s/it]\u001b[A\u001b[A\n",
      "\n",
      " 55%|█████▌    | 147/266 [31:11<17:07,  8.63s/it]\u001b[A\u001b[A\n",
      "\n",
      " 56%|█████▌    | 148/266 [31:19<16:50,  8.57s/it]\u001b[A\u001b[A\n",
      "\n",
      " 56%|█████▌    | 149/266 [31:27<16:29,  8.46s/it]\u001b[A\u001b[A\n",
      "\n",
      " 56%|█████▋    | 150/266 [31:35<15:56,  8.25s/it]\u001b[A\u001b[A\n",
      "\n",
      " 57%|█████▋    | 151/266 [31:42<15:15,  7.96s/it]\u001b[A\u001b[A\n",
      "\n",
      " 57%|█████▋    | 152/266 [31:50<14:44,  7.76s/it]\u001b[A\u001b[A\n",
      "\n",
      " 58%|█████▊    | 153/266 [31:57<14:37,  7.77s/it]\u001b[A\u001b[A\n",
      "\n",
      " 58%|█████▊    | 154/266 [32:05<14:37,  7.84s/it]\u001b[A\u001b[A\n",
      "\n",
      " 58%|█████▊    | 155/266 [32:14<14:40,  7.93s/it]\u001b[A\u001b[A\n",
      "\n",
      " 59%|█████▊    | 156/266 [32:27<17:30,  9.55s/it]\u001b[A\u001b[A\n",
      "\n",
      " 59%|█████▉    | 157/266 [32:36<17:14,  9.49s/it]\u001b[A\u001b[A\n",
      "\n",
      " 59%|█████▉    | 158/266 [32:46<17:28,  9.71s/it]\u001b[A\u001b[A\n",
      "\n",
      " 60%|█████▉    | 159/266 [32:56<17:09,  9.62s/it]\u001b[A\u001b[A\n",
      "\n",
      " 60%|██████    | 160/266 [33:07<17:59, 10.18s/it]\u001b[A\u001b[A\n",
      "\n",
      " 61%|██████    | 161/266 [33:16<17:00,  9.72s/it]\u001b[A\u001b[A\n",
      "\n",
      " 61%|██████    | 162/266 [33:26<17:00,  9.81s/it]\u001b[A\u001b[A\n",
      "\n",
      " 61%|██████▏   | 163/266 [33:36<16:51,  9.82s/it]\u001b[A\u001b[A\n",
      "\n",
      " 62%|██████▏   | 164/266 [33:48<17:53, 10.52s/it]\u001b[A\u001b[A\n",
      "\n",
      " 62%|██████▏   | 165/266 [34:00<18:32, 11.01s/it]\u001b[A\u001b[A\n",
      "\n",
      " 62%|██████▏   | 166/266 [34:11<18:06, 10.86s/it]\u001b[A\u001b[A\n",
      "\n",
      " 63%|██████▎   | 167/266 [34:20<17:18, 10.49s/it]\u001b[A\u001b[A\n",
      "\n",
      " 63%|██████▎   | 168/266 [34:31<17:11, 10.53s/it]\u001b[A\u001b[A\n",
      "\n",
      " 64%|██████▎   | 169/266 [34:41<16:58, 10.50s/it]\u001b[A\u001b[A\n",
      "\n",
      " 64%|██████▍   | 170/266 [34:53<17:23, 10.87s/it]\u001b[A\u001b[A\n",
      "\n",
      " 64%|██████▍   | 171/266 [35:04<17:15, 10.90s/it]\u001b[A\u001b[A\n",
      "\n",
      " 65%|██████▍   | 172/266 [35:15<16:59, 10.85s/it]\u001b[A\u001b[A\n",
      "\n",
      " 65%|██████▌   | 173/266 [35:25<16:29, 10.64s/it]\u001b[A\u001b[A\n",
      "\n",
      " 65%|██████▌   | 174/266 [35:34<15:42, 10.24s/it]\u001b[A\u001b[A\n",
      "\n",
      " 66%|██████▌   | 175/266 [35:49<17:44, 11.70s/it]\u001b[A\u001b[A\n",
      "\n",
      " 66%|██████▌   | 176/266 [36:09<20:59, 14.00s/it]\u001b[A\u001b[A\n",
      "\n",
      "\n",
      " 67%|██████▋   | 177/266 [36:20<19:25, 13.10s/it]\u001b[A\u001b[A\n",
      "\n",
      " 67%|██████▋   | 178/266 [36:29<17:28, 11.92s/it]\u001b[A\u001b[A\n",
      "\n",
      " 67%|██████▋   | 179/266 [36:39<16:26, 11.33s/it]\u001b[A\u001b[A\n",
      "\n",
      " 68%|██████▊   | 180/266 [36:48<15:26, 10.77s/it]\u001b[A\u001b[A\n",
      "\n",
      " 68%|██████▊   | 181/266 [36:57<14:27, 10.21s/it]\u001b[A\u001b[A\n",
      "\n",
      " 68%|██████▊   | 182/266 [37:06<13:40,  9.76s/it]\u001b[A\u001b[A\n",
      "\n",
      " 69%|██████▉   | 183/266 [37:16<13:44,  9.94s/it]\u001b[A\u001b[A\n",
      "\n",
      " 69%|██████▉   | 184/266 [37:26<13:27,  9.85s/it]\u001b[A\u001b[A\n",
      "\n",
      " 70%|██████▉   | 185/266 [37:36<13:13,  9.80s/it]\u001b[A\u001b[A\n",
      "\n",
      " 70%|██████▉   | 186/266 [37:45<13:03,  9.79s/it]\u001b[A\u001b[A\n",
      "\n",
      " 70%|███████   | 187/266 [37:56<13:16, 10.08s/it]\u001b[A\u001b[A\n",
      "\n",
      " 71%|███████   | 188/266 [38:06<13:11, 10.15s/it]\u001b[A\u001b[A\n",
      "\n",
      " 71%|███████   | 189/266 [38:16<12:57, 10.09s/it]\u001b[A\u001b[A\n",
      "\n",
      " 71%|███████▏  | 190/266 [38:28<13:19, 10.52s/it]\u001b[A\u001b[A\n",
      "\n",
      " 72%|███████▏  | 191/266 [38:44<15:08, 12.11s/it]\u001b[A\u001b[A\n",
      "\n",
      " 72%|███████▏  | 192/266 [39:05<18:09, 14.72s/it]\u001b[A\u001b[A\n",
      "\n",
      " 73%|███████▎  | 193/266 [39:26<20:11, 16.60s/it]\u001b[A\u001b[A\n",
      "\n",
      " 73%|███████▎  | 194/266 [39:48<22:03, 18.39s/it]\u001b[A\u001b[A\n",
      "\n",
      " 73%|███████▎  | 195/266 [40:10<22:58, 19.41s/it]\u001b[A\u001b[A\n",
      "\n",
      " 74%|███████▎  | 196/266 [40:29<22:36, 19.39s/it]\u001b[A\u001b[A\n",
      "\n",
      " 74%|███████▍  | 197/266 [40:46<21:32, 18.73s/it]\u001b[A\u001b[A\n",
      "\n",
      " 74%|███████▍  | 198/266 [41:05<21:09, 18.67s/it]\u001b[A\u001b[A\n",
      "\n",
      " 75%|███████▍  | 199/266 [41:24<21:04, 18.87s/it]\u001b[A\u001b[A\n",
      "\n",
      " 75%|███████▌  | 200/266 [41:47<21:58, 19.98s/it]\u001b[A\u001b[A\n",
      "\n",
      " 76%|███████▌  | 201/266 [42:12<23:26, 21.64s/it]\u001b[A\u001b[A\n",
      "\n",
      " 76%|███████▌  | 202/266 [42:25<20:05, 18.84s/it]\u001b[A\u001b[A\n",
      "\n",
      " 76%|███████▋  | 203/266 [42:36<17:16, 16.46s/it]\u001b[A\u001b[A\n",
      "\n",
      " 77%|███████▋  | 204/266 [42:47<15:19, 14.82s/it]\u001b[A\u001b[A\n",
      "\n",
      " 77%|███████▋  | 205/266 [43:02<15:11, 14.94s/it]\u001b[A\u001b[A\n",
      "\n",
      " 77%|███████▋  | 206/266 [43:24<17:07, 17.13s/it]\u001b[A\u001b[A\n",
      "\n",
      " 78%|███████▊  | 207/266 [43:44<17:47, 18.09s/it]\u001b[A\u001b[A\n",
      "\n",
      " 78%|███████▊  | 208/266 [44:01<17:08, 17.74s/it]\u001b[A\u001b[A\n",
      "\n",
      " 79%|███████▊  | 209/266 [44:18<16:35, 17.46s/it]\u001b[A\u001b[A\n",
      "\n",
      " 79%|███████▉  | 210/266 [44:35<16:00, 17.16s/it]\u001b[A\u001b[A\n",
      "\n",
      " 79%|███████▉  | 211/266 [44:50<15:22, 16.77s/it]\u001b[A\u001b[A\n",
      "\n",
      " 80%|███████▉  | 212/266 [45:06<14:46, 16.41s/it]\u001b[A\u001b[A\n",
      "\n",
      " 80%|████████  | 213/266 [45:23<14:43, 16.67s/it]\u001b[A\u001b[A\n",
      "\n",
      " 80%|████████  | 214/266 [45:38<13:54, 16.06s/it]\u001b[A\u001b[A\n",
      "\n",
      " 81%|████████  | 215/266 [45:56<14:12, 16.71s/it]\u001b[A\u001b[A\n",
      "\n",
      " 81%|████████  | 216/266 [46:14<14:08, 16.96s/it]\u001b[A\u001b[A\n",
      "\n",
      " 82%|████████▏ | 217/266 [46:30<13:46, 16.88s/it]\u001b[A\u001b[A\n",
      "\n",
      " 82%|████████▏ | 218/266 [46:48<13:43, 17.16s/it]\u001b[A\u001b[A\n",
      "\n",
      " 82%|████████▏ | 219/266 [47:10<14:26, 18.44s/it]\u001b[A\u001b[A\n",
      "\n",
      " 83%|████████▎ | 220/266 [47:28<14:09, 18.46s/it]\u001b[A\u001b[A\n",
      "\n",
      " 83%|████████▎ | 221/266 [47:47<13:56, 18.59s/it]\u001b[A\u001b[A\n",
      "\n",
      " 83%|████████▎ | 222/266 [48:13<15:15, 20.80s/it]\u001b[A\u001b[A\n",
      "\n",
      " 84%|████████▍ | 223/266 [48:22<12:19, 17.20s/it]\u001b[A\u001b[A\n",
      "\n",
      " 84%|████████▍ | 224/266 [48:31<10:22, 14.81s/it]\u001b[A\u001b[A\n",
      "\n",
      " 85%|████████▍ | 225/266 [48:41<09:05, 13.32s/it]\u001b[A\u001b[A\n",
      "\n",
      " 85%|████████▍ | 226/266 [48:51<08:18, 12.47s/it]\u001b[A\u001b[A\n",
      "\n",
      " 85%|████████▌ | 227/266 [49:02<07:49, 12.04s/it]\u001b[A\u001b[A\n",
      "\n",
      " 86%|████████▌ | 228/266 [49:12<07:04, 11.18s/it]\u001b[A\u001b[A\n",
      "\n",
      " 86%|████████▌ | 229/266 [49:22<06:45, 10.96s/it]\u001b[A\u001b[A\n",
      "\n",
      " 86%|████████▋ | 230/266 [49:31<06:16, 10.47s/it]\u001b[A\u001b[A\n",
      "\n",
      " 87%|████████▋ | 231/266 [49:41<05:52, 10.08s/it]\u001b[A\u001b[A\n",
      "\n",
      " 87%|████████▋ | 232/266 [49:50<05:41, 10.04s/it]\u001b[A\u001b[A\n",
      "\n",
      " 88%|████████▊ | 233/266 [50:02<05:42, 10.38s/it]\u001b[A\u001b[A\n",
      "\n",
      " 88%|████████▊ | 234/266 [50:13<05:41, 10.68s/it]\u001b[A\u001b[A\n",
      "\n",
      " 88%|████████▊ | 235/266 [50:24<05:31, 10.71s/it]\u001b[A\u001b[A\n",
      "\n",
      " 89%|████████▊ | 236/266 [50:36<05:35, 11.17s/it]\u001b[A\u001b[A\n",
      "\n",
      " 89%|████████▉ | 237/266 [50:47<05:20, 11.05s/it]\u001b[A\u001b[A\n",
      "\n",
      " 89%|████████▉ | 238/266 [50:57<04:59, 10.71s/it]\u001b[A\u001b[A\n",
      "\n",
      " 90%|████████▉ | 239/266 [51:06<04:36, 10.25s/it]\u001b[A\u001b[A\n",
      "\n",
      " 90%|█████████ | 240/266 [51:15<04:19, 10.00s/it]\u001b[A\u001b[A\n",
      "\n",
      " 91%|█████████ | 241/266 [51:25<04:06,  9.84s/it]\u001b[A\u001b[A\n",
      "\n",
      " 91%|█████████ | 242/266 [51:34<03:53,  9.74s/it]\u001b[A\u001b[A\n",
      "\n",
      " 91%|█████████▏| 243/266 [51:44<03:41,  9.62s/it]\u001b[A\u001b[A\n",
      "\n",
      " 92%|█████████▏| 244/266 [51:56<03:50, 10.47s/it]\u001b[A\u001b[A\n",
      "\n",
      " 92%|█████████▏| 245/266 [52:05<03:30, 10.03s/it]\u001b[A\u001b[A\n",
      "\n",
      " 92%|█████████▏| 246/266 [52:13<03:09,  9.48s/it]\u001b[A\u001b[A\n",
      "\n",
      " 93%|█████████▎| 247/266 [52:22<02:54,  9.17s/it]\u001b[A\u001b[A\n",
      "\n",
      " 93%|█████████▎| 248/266 [52:31<02:43,  9.08s/it]\u001b[A\u001b[A\n",
      "\n",
      " 94%|█████████▎| 249/266 [52:40<02:37,  9.25s/it]\u001b[A\u001b[A\n",
      "\n",
      " 94%|█████████▍| 250/266 [52:50<02:28,  9.30s/it]\u001b[A\u001b[A\n",
      "\n",
      " 94%|█████████▍| 251/266 [52:58<02:14,  8.94s/it]\u001b[A\u001b[A\n",
      "\n",
      " 95%|█████████▍| 252/266 [53:06<02:01,  8.64s/it]\u001b[A\u001b[A\n",
      "\n",
      " 95%|█████████▌| 253/266 [53:14<01:49,  8.45s/it]\u001b[A\u001b[A\n",
      "\n",
      " 95%|█████████▌| 254/266 [53:22<01:39,  8.31s/it]\u001b[A\u001b[A\n",
      "\n",
      " 96%|█████████▌| 255/266 [53:30<01:30,  8.27s/it]\u001b[A\u001b[A\n",
      "\n",
      " 96%|█████████▌| 256/266 [53:38<01:22,  8.22s/it]\u001b[A\u001b[A\n",
      "\n",
      " 97%|█████████▋| 257/266 [53:46<01:13,  8.22s/it]\u001b[A\u001b[A\n",
      "\n",
      " 97%|█████████▋| 258/266 [53:54<01:05,  8.17s/it]\u001b[A\u001b[A\n",
      "\n",
      " 97%|█████████▋| 259/266 [54:03<00:58,  8.31s/it]\u001b[A\u001b[A\n",
      "\n",
      " 98%|█████████▊| 260/266 [54:12<00:50,  8.49s/it]\u001b[A\u001b[A\n",
      "\n",
      " 98%|█████████▊| 261/266 [54:21<00:43,  8.65s/it]\u001b[A\u001b[A\n",
      "\n",
      " 98%|█████████▊| 262/266 [54:29<00:34,  8.59s/it]\u001b[A\u001b[A\n",
      "\n",
      " 99%|█████████▉| 263/266 [54:38<00:25,  8.60s/it]\u001b[A\u001b[A\n",
      "\n",
      " 99%|█████████▉| 264/266 [54:46<00:17,  8.50s/it]\u001b[A\u001b[A\n",
      "\n",
      "100%|█████████▉| 265/266 [54:54<00:08,  8.29s/it]\u001b[A\u001b[A\n",
      "\n",
      "100%|██████████| 266/266 [55:02<00:00,  8.15s/it]"
     ]
    },
    {
     "name": "stdout",
     "output_type": "stream",
     "text": [
      "[MoviePy] Done.\n",
      "[MoviePy] >>>> Video ready: /Users/lukas/Documents/Universitaet/Studium/WS_17-18/mapra/aufgaben/aufgabe01_application/aufgabe01_fahrspurerkennung/test_videos_output/solidWhiteRight.webm \n",
      "\n"
     ]
    },
    {
     "name": "stderr",
     "output_type": "stream",
     "text": [
      "\u001b[A\u001b[A\n",
      "\n",
      "\u001b[A\u001b[A"
     ]
    }
   ],
   "source": [
    "# notwendige Bibliotheken zur Videoverarbeitung laden\n",
    "import moviepy.editor as mpy\n",
    "from moviepy.editor import VideoFileClip\n",
    "from IPython.display import HTML\n",
    "import imageio\n",
    "imageio.plugins.ffmpeg.download();\n",
    "\n",
    "enable_video=1\n",
    "\n",
    "if not SELECT_TESTPATTERN == 1 and enable_video==1:\n",
    "\n",
    "    # Ausgabe-Video\n",
    "    # Codec Optionen: https://zulko.github.io/moviepy/_modules/moviepy/video/VideoClip.html\n",
    "    ##video_ausgabe = 'test_videos_output/solidWhiteRight.mp4'\n",
    "    video_ausgabe = '/Users/lukas/Documents/Universitaet/Studium/WS_17-18/mapra/aufgaben/aufgabe01_application/aufgabe01_fahrspurerkennung/test_videos_output/solidWhiteRight.webm'\n",
    "\n",
    "    # Eingabe-Video\n",
    "    clip1 = VideoFileClip(\"/Users/lukas/Documents/Universitaet/Studium/WS_17-18/mapra/aufgaben/aufgabe01_application/aufgabe01_fahrspurerkennung/test_videos/solidWhiteRight.mp4\")\n",
    "    \n",
    "    # nur einen Teil des Eingabe-Videos verwenden, um die Berechnung zu beschleunigen\n",
    "    #clip1 = VideoFileClip(\"test_videos/solidWhiteRight.mp4\").subclip(6,7)\n",
    "\n",
    "\n",
    "    # Bild in Ausgabevideo speichern\n",
    "    write_clip = clip1.fl_image(bildverarbeitungskette)\n",
    "    write_clip.write_videofile(video_ausgabe, audio=False, fps=30)\n",
    "    \n"
   ]
  },
  {
   "cell_type": "markdown",
   "metadata": {},
   "source": [
    "### Video abspielen"
   ]
  },
  {
   "cell_type": "code",
   "execution_count": 188,
   "metadata": {},
   "outputs": [
    {
     "data": {
      "text/html": [
       "\n",
       "<video width=\"960\" height=\"540\" controls>\n",
       "  <source src=\"/Users/lukas/Documents/Universitaet/Studium/WS_17-18/mapra/aufgaben/aufgabe01_application/aufgabe01_fahrspurerkennung/test_videos_output/solidWhiteRight.webm\">\n",
       "</video>\n"
      ],
      "text/plain": [
       "<IPython.core.display.HTML object>"
      ]
     },
     "execution_count": 188,
     "metadata": {},
     "output_type": "execute_result"
    }
   ],
   "source": [
    "# Video einbetten - funktioniert auf den Laborrechnern nur bei .webm\n",
    "HTML(\"\"\"\n",
    "<video width=\"960\" height=\"540\" controls>\n",
    "  <source src=\"{0}\">\n",
    "</video>\n",
    "\"\"\".format(video_ausgabe))\n",
    "\n",
    "# Eingangsvideo\n",
    "#import pygame\n",
    "#clip1.preview(audio=False)\n",
    "#pygame.quit()"
   ]
  },
  {
   "cell_type": "code",
   "execution_count": null,
   "metadata": {},
   "outputs": [],
   "source": []
  },
  {
   "cell_type": "code",
   "execution_count": null,
   "metadata": {},
   "outputs": [],
   "source": []
  }
 ],
 "metadata": {
  "anaconda-cloud": {},
  "kernelspec": {
   "display_name": "Python 3",
   "language": "python",
   "name": "python3"
  },
  "language_info": {
   "codemirror_mode": {
    "name": "ipython",
    "version": 3
   },
   "file_extension": ".py",
   "mimetype": "text/x-python",
   "name": "python",
   "nbconvert_exporter": "python",
   "pygments_lexer": "ipython3",
   "version": "3.6.1"
  },
  "widgets": {
   "state": {},
   "version": "1.1.2"
  }
 },
 "nbformat": 4,
 "nbformat_minor": 2
}
